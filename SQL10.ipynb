{
 "cells": [
  {
   "cell_type": "raw",
   "id": "c2b67c23",
   "metadata": {},
   "source": [
    "Q-19. Write an SQL query to determine the 5th highest salary without using TOP or limit\n",
    "method.\n",
    "ANS- SELECT ename,sal from Employee e1 where \n",
    "        N-1 = (SELECT COUNT(DISTINCT sal)from Employee e2 where e2.sal > e1.sal) "
   ]
  },
  {
   "cell_type": "code",
   "execution_count": null,
   "id": "9c2d8b90",
   "metadata": {},
   "outputs": [],
   "source": [
    "Q-20. Write an SQL query to fetch the list of employees with the same salary.\n",
    "ANS- SELECT * FROM EMP WHERE (SAL IN (SELECT sal\n",
    "FROM emp GROUP BY sal HAVING COUNT(sal) > 1))"
   ]
  }
 ],
 "metadata": {
  "kernelspec": {
   "display_name": "Python 3 (ipykernel)",
   "language": "python",
   "name": "python3"
  },
  "language_info": {
   "codemirror_mode": {
    "name": "ipython",
    "version": 3
   },
   "file_extension": ".py",
   "mimetype": "text/x-python",
   "name": "python",
   "nbconvert_exporter": "python",
   "pygments_lexer": "ipython3",
   "version": "3.9.7"
  }
 },
 "nbformat": 4,
 "nbformat_minor": 5
}
